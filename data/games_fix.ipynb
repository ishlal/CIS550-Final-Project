{
 "cells": [
  {
   "cell_type": "code",
   "execution_count": 1,
   "metadata": {},
   "outputs": [],
   "source": [
    "import pandas as pd"
   ]
  },
  {
   "cell_type": "code",
   "execution_count": 28,
   "metadata": {},
   "outputs": [],
   "source": [
    "games = pd.read_csv('nba_team_game_logs.csv')\n"
   ]
  },
  {
   "cell_type": "code",
   "execution_count": 29,
   "metadata": {},
   "outputs": [],
   "source": [
    "games = games[games['locationGame'] == 'H']"
   ]
  },
  {
   "cell_type": "code",
   "execution_count": 30,
   "metadata": {},
   "outputs": [
    {
     "data": {
      "text/plain": [
       "{'NOP': 1610612740,\n",
       " 'LAL': 1610612747,\n",
       " 'SAS': 1610612759,\n",
       " 'MEM': 1610612763,\n",
       " 'TOR': 1610612761,\n",
       " 'CHA': 1610612766,\n",
       " 'DEN': 1610612743,\n",
       " 'SAC': 1610612758,\n",
       " 'IND': 1610612754,\n",
       " 'UTA': 1610612762,\n",
       " 'POR': 1610612757,\n",
       " 'MIA': 1610612748,\n",
       " 'BOS': 1610612738,\n",
       " 'PHX': 1610612756,\n",
       " 'NYK': 1610612752,\n",
       " 'MIN': 1610612750,\n",
       " 'DAL': 1610612742,\n",
       " 'CLE': 1610612739,\n",
       " 'ORL': 1610612753,\n",
       " 'LAC': 1610612746,\n",
       " 'MIL': 1610612749,\n",
       " 'CHI': 1610612741,\n",
       " 'OKC': 1610612760,\n",
       " 'WAS': 1610612764,\n",
       " 'ATL': 1610612737,\n",
       " 'DET': 1610612765,\n",
       " 'HOU': 1610612745,\n",
       " 'GSW': 1610612744,\n",
       " 'PHI': 1610612755,\n",
       " 'BKN': 1610612751}"
      ]
     },
     "execution_count": 30,
     "metadata": {},
     "output_type": "execute_result"
    }
   ],
   "source": [
    "x = games[['slugTeam', 'idTeam']]\n",
    "x = x.drop_duplicates()\n",
    "x_dict = x.set_index('slugTeam').T.to_dict('records')[0]\n",
    "x_dict"
   ]
  },
  {
   "cell_type": "code",
   "execution_count": 31,
   "metadata": {},
   "outputs": [],
   "source": [
    "games['opponentID'] = games.apply(lambda x : x_dict[x['slugOpponent']], axis = 1)\n",
    "games['h_score'] = games['ptsTeam']\n",
    "games['a_score'] = games['h_score'] - games['plusminusTeam']\n",
    "games = games[['slugSeason', 'idGame', 'dateGame', 'slugMatchup', 'idTeam', 'opponentID', 'h_score', 'a_score']]"
   ]
  },
  {
   "cell_type": "code",
   "execution_count": 34,
   "metadata": {},
   "outputs": [],
   "source": [
    "games.to_csv('normalised_games_data.csv', index = False)"
   ]
  }
 ],
 "metadata": {
  "kernelspec": {
   "display_name": "Python 3",
   "language": "python",
   "name": "python3"
  },
  "language_info": {
   "codemirror_mode": {
    "name": "ipython",
    "version": 3
   },
   "file_extension": ".py",
   "mimetype": "text/x-python",
   "name": "python",
   "nbconvert_exporter": "python",
   "pygments_lexer": "ipython3",
   "version": "3.10.8 (v3.10.8:aaaf517424, Oct 11 2022, 10:14:40) [Clang 13.0.0 (clang-1300.0.29.30)]"
  },
  "orig_nbformat": 4,
  "vscode": {
   "interpreter": {
    "hash": "aee8b7b246df8f9039afb4144a1f6fd8d2ca17a180786b69acc140d282b71a49"
   }
  }
 },
 "nbformat": 4,
 "nbformat_minor": 2
}
